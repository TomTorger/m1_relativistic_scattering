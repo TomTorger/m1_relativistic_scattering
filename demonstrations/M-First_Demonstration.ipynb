{
 "cells": [
  {
   "cell_type": "markdown",
   "metadata": {},
   "source": [
    "# A Computational Validation of the Momentum-First Kinematic Framework\n",
    "\n",
    "This notebook provides a computational proof that the core conservation law of the Momentum-First (M-First) framework is mathematically equivalent to the standard conservation laws of relativistic kinematics for two-particle elastic scattering.\n",
    "\n",
    "The theoretical foundation for this work is detailed in the paper **[\"Momentum Is All You Need\"](https://www.authorea.com/users/695998/articles/713606-momentum-is-all-you-need)**.\n",
    "\n",
    "The goal is to demonstrate that M-First is not just a reinterpretation but a rigorous framework that correctly reproduces well-established physical results. This provides a solid foundation for the framework's more advanced claims regarding gravity and cosmology.\n",
    "\n",
    "### In this notebook, we will:\n",
    "\n",
    "1.  **Review** the core postulates of M-First kinematics.\n",
    "2.  **Simulate** several two-particle elastic collisions using standard conservation laws of energy and vector momentum.\n",
    "3.  **Display** the results in two formats: the standard conservation table and the M-First conservation table.\n",
    "4.  **Conclude** by showing the perfect \"balance\" in both tables, proving the mathematical equivalence of the two viewpoints."
   ]
  },
  {
   "cell_type": "markdown",
   "metadata": {},
   "source": [
    "## 1. The Core Postulates\n",
    "\n",
    "The standard model of physics conserves two quantities in an elastic collision:\n",
    "1.  **Total Energy ($E$)**\n",
    "2.  **Total Vector Momentum ($\\vec{P}$)**\n",
    "\n",
    "The M-First framework replaces these with a single, more stringent postulate:\n",
    "\n",
    "**Postulate 1:** *For any isolated physical system, the total sum of directional momentum components $p_{k^\\pm}$ along each of the six Cartesian half-axes is independently conserved.*\n",
    "\n",
    "The directional components for a particle are defined as:\n",
    "$$ p_{k^\\pm} = M(p) \\mp \\frac{1}{2} p_k $$\n",
    "where $p_k$ is the standard momentum component ($p_x, p_y, p_z$) and $M(p)$ is the Core Momentum:\n",
    "$$ M(p) = \\sqrt{p_f^2 + p^2} = \\sqrt{(m_0c)^2 + p^2} $$\n",
    "This notebook will show that for any valid relativistic collision, both sets of conservation laws are satisfied simultaneously."
   ]
  },
  {
   "cell_type": "markdown",
   "metadata": {},
   "source": [
    "## 2. Setup: Importing the Simulation Code\n",
    "\n",
    "First, we import the necessary classes from our `src` directory. The `ConcreteParticle` class represents a particle, and `ElasticScatteringExperiment` handles the collision calculations."
   ]
  },
  {
   "cell_type": "code",
   "execution_count": null,
   "metadata": {},
   "outputs": [
    {
     "name": "stdout",
     "output_type": "stream",
     "text": [
      "Successfully imported M-First classes.\n"
     ]
    }
   ],
   "source": [
    "import numpy as np\n",
    "import sys\n",
    "import os\n",
    "\n",
    "# --- Robustly set up the system path ---\n",
    "# Get the absolute path of the current notebook\n",
    "notebook_path = os.path.abspath(\".\")\n",
    "# Get the project root directory by going one level up\n",
    "project_root = os.path.dirname(notebook_path)\n",
    "\n",
    "# If the project root is not already in the system path, add it\n",
    "if project_root not in sys.path:\n",
    "    sys.path.insert(0, project_root)\n",
    "    print(f\"Added project root to system path: {project_root}\")\n",
    "\n",
    "# --- Import the core classes ---\n",
    "from src.particle import ConcreteParticle\n",
    "from src.elastic_scattering import ElasticScatteringExperiment\n",
    "print(\"Successfully imported M-First classes.\")"
   ]
  },
  {
   "cell_type": "markdown",
   "metadata": {},
   "source": [
    "## 3. Scenario 1: Head-on Collision with a Stationary Target\n",
    "\n",
    "Let's define a simple scenario:\n",
    "- **Particle A:** Has a mass of 3 units and an initial momentum of 4 units along the z-axis.\n",
    "- **Particle B:** Has a mass of 6 units and is initially at rest.\n",
    "- **Scattering Angle:** We will assume Particle A scatters straight back along the -z axis."
   ]
  },
  {
   "cell_type": "code",
   "execution_count": null,
   "metadata": {},
   "outputs": [],
   "source": [
    "# --- Define the initial particles ---\n",
    "particle_A_initial = ConcreteParticle(m0=3, bosic_momentum=np.array([0, 0, 4]), c=1.0)\n",
    "particle_B_initial = ConcreteParticle(m0=6, bosic_momentum=np.array([0, 0, 0]), c=1.0)\n",
    "\n",
    "# --- Define the escape direction for Particle A (straight back) ---\n",
    "escape_direction = np.array([0, 0, -1])\n",
    "\n",
    "# --- Create and solve the experiment ---\n",
    "try:\n",
    "    experiment_1 = ElasticScatteringExperiment(\n",
    "        initial_particle_A=particle_A_initial, \n",
    "        initial_particle_B=particle_B_initial, \n",
    "        escape_direction=escape_direction\n",
    "    )\n",
    "    experiment_1.solve()\n",
    "    print(\"Scenario 1 solved successfully.\")\n",
    "except (RuntimeError, NameError) as e:\n",
    "    print(f\"An error occurred while running the experiment: {e}\")"
   ]
  },
  {
   "cell_type": "markdown",
   "metadata": {},
   "source": [
    "### Standard Conservation Laws View"
   ]
  },
  {
   "cell_type": "code",
   "execution_count": 16,
   "metadata": {},
   "outputs": [
    {
     "name": "stdout",
     "output_type": "stream",
     "text": [
      "--- Standard Conservation Table ---\n",
      "\n",
      "           A_before  B_before  Total (Before)   A_after  B_after  Total (After)  Balance\n",
      "Component                                                                               \n",
      "px         0.000000  0.000000        0.000000  0.000000 0.000000       0.000000 0.000000\n",
      "py         0.000000  0.000000        0.000000  0.000000 0.000000       0.000000 0.000000\n",
      "pz         4.000000  0.000000        4.000000 -1.028571 5.028571       4.000000 0.000000\n",
      "Energy     5.000000  6.000000       11.000000  3.171429 7.828571      11.000000 0.000000\n",
      "\n",
      "================================================================================\n",
      "\n"
     ]
    }
   ],
   "source": [
    "experiment_1.print_traditional_table()"
   ]
  },
  {
   "cell_type": "markdown",
   "metadata": {},
   "source": [
    "### Momentum-First Conservation Laws View"
   ]
  },
  {
   "cell_type": "code",
   "execution_count": 17,
   "metadata": {},
   "outputs": [
    {
     "name": "stdout",
     "output_type": "stream",
     "text": [
      "--- Momentum-First Conservation Table ---\n",
      "\n",
      "           A_before  B_before  Total (Before)  A_after   B_after  Total (After)  Balance\n",
      "Component                                                                               \n",
      "x+         5.000000  6.000000       11.000000 3.171429  7.828571      11.000000 0.000000\n",
      "x-         5.000000  6.000000       11.000000 3.171429  7.828571      11.000000 0.000000\n",
      "y+         5.000000  6.000000       11.000000 3.171429  7.828571      11.000000 0.000000\n",
      "y-         5.000000  6.000000       11.000000 3.171429  7.828571      11.000000 0.000000\n",
      "z+         3.000000  6.000000        9.000000 3.685714  5.314286       9.000000 0.000000\n",
      "z-         7.000000  6.000000       13.000000 2.657143 10.342857      13.000000 0.000000\n",
      "\n",
      "================================================================================\n",
      "\n"
     ]
    }
   ],
   "source": [
    "experiment_1.print_momentum_first_table()"
   ]
  },
  {
   "cell_type": "markdown",
   "metadata": {},
   "source": [
    "**Observation:** As you can see, the 'Balance' column is zero (or very close to it, due to floating point precision) in *both* tables. This confirms the equivalence for this scenario."
   ]
  },
  {
   "cell_type": "markdown",
   "metadata": {},
   "source": [
    "## 4. Scenario 2: Massless Particle (Photon) Scattering\n",
    "\n",
    "Now, let's test a more interesting case involving a massless particle.\n",
    "- **Particle A:** A massless particle (m0=0) with momentum [0, 0, 5].\n",
    "- **Particle B:** A massive particle (m0=4) at rest.\n",
    "- **Scattering Angle:** We'll choose a 90-degree scattering angle into the y-axis."
   ]
  },
  {
   "cell_type": "code",
   "execution_count": null,
   "metadata": {},
   "outputs": [],
   "source": [
    "# (Code to set up and run Scenario 2 will go here)"
   ]
  },
  {
   "cell_type": "markdown",
   "metadata": {},
   "source": [
    "## 5. Conclusion\n",
    "\n",
    "Across multiple scenarios, we have shown that solving a collision using standard conservation laws invariably leads to a state that also satisfies the M-First conservation laws. This provides strong computational evidence that the two frameworks are describing the same kinematic reality, with M-First offering a different, potentially more fundamental, axiomatic foundation."
   ]
  }
 ],
 "metadata": {
  "kernelspec": {
   "display_name": "Python 3",
   "language": "python",
   "name": "python3"
  },
  "language_info": {
   "codemirror_mode": {
    "name": "ipython",
    "version": 3
   },
   "file_extension": ".py",
   "mimetype": "text/x-python",
   "name": "python",
   "nbconvert_exporter": "python",
   "pygments_lexer": "ipython3",
   "version": "3.13.1"
  }
 },
 "nbformat": 4,
 "nbformat_minor": 2
}

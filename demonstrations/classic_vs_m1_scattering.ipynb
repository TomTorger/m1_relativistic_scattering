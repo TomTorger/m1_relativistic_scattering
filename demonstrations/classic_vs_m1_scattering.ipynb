{
 "cells": [
  {
   "cell_type": "markdown",
   "id": "b413cdaa",
   "metadata": {},
   "source": [
    "# Classic vs M1 Scattering\n",
    "This notebook compares traditional relativistic scattering with the Momentum-First (M1) formulation."
   ]
  },
  {
   "cell_type": "code",
   "execution_count": 1,
   "id": "7bb43a40",
   "metadata": {
    "execution": {
     "iopub.execute_input": "2025-08-07T21:00:26.839607Z",
     "iopub.status.busy": "2025-08-07T21:00:26.839325Z",
     "iopub.status.idle": "2025-08-07T21:00:26.846553Z",
     "shell.execute_reply": "2025-08-07T21:00:26.845650Z"
    }
   },
   "outputs": [],
   "source": [
    "import sys, os\n",
    "sys.path.insert(0, os.path.abspath('..'))"
   ]
  },
  {
   "cell_type": "code",
   "execution_count": 2,
   "id": "53e9280a",
   "metadata": {
    "execution": {
     "iopub.execute_input": "2025-08-07T21:00:26.848820Z",
     "iopub.status.busy": "2025-08-07T21:00:26.848611Z",
     "iopub.status.idle": "2025-08-07T21:00:27.555694Z",
     "shell.execute_reply": "2025-08-07T21:00:27.554982Z"
    }
   },
   "outputs": [],
   "source": [
    "import numpy as np\n",
    "import pandas as pd\n",
    "from src import ConcreteParticle, ElasticScatteringExperiment, ScatteringComparison"
   ]
  },
  {
   "cell_type": "code",
   "execution_count": 3,
   "id": "fc288614",
   "metadata": {
    "execution": {
     "iopub.execute_input": "2025-08-07T21:00:27.558173Z",
     "iopub.status.busy": "2025-08-07T21:00:27.557811Z",
     "iopub.status.idle": "2025-08-07T21:00:27.579502Z",
     "shell.execute_reply": "2025-08-07T21:00:27.578648Z"
    }
   },
   "outputs": [
    {
     "data": {
      "text/plain": [
       "(           A_before  B_before  Total (Before)   A_after   B_after  \\\n",
       " Component                                                           \n",
       " px              0.0       0.0             0.0  0.855041 -0.855041   \n",
       " py              0.0       0.0             0.0  0.000000  0.000000   \n",
       " pz              4.0       0.0             4.0 -0.855041  4.855041   \n",
       " Energy          5.0       6.0            11.0  3.234531  7.765469   \n",
       " \n",
       "            Total (After)       Balance  \n",
       " Component                               \n",
       " px                   0.0  0.000000e+00  \n",
       " py                   0.0  0.000000e+00  \n",
       " pz                   4.0  0.000000e+00  \n",
       " Energy              11.0  2.803640e-09  ,\n",
       "            A_before  B_before  Total (Before)   A_after    B_after  \\\n",
       " Component                                                            \n",
       " x+              5.0       6.0            11.0  2.807010   8.192990   \n",
       " x-              5.0       6.0            11.0  3.662051   7.337949   \n",
       " y+              5.0       6.0            11.0  3.234531   7.765469   \n",
       " y-              5.0       6.0            11.0  3.234531   7.765469   \n",
       " z+              3.0       6.0             9.0  3.662051   5.337949   \n",
       " z-              7.0       6.0            13.0  2.807010  10.192990   \n",
       " \n",
       "            Total (After)       Balance  \n",
       " Component                               \n",
       " x+                  11.0  2.803640e-09  \n",
       " x-                  11.0  2.803640e-09  \n",
       " y+                  11.0  2.803640e-09  \n",
       " y-                  11.0  2.803640e-09  \n",
       " z+                   9.0  2.803640e-09  \n",
       " z-                  13.0  2.803640e-09  )"
      ]
     },
     "execution_count": 3,
     "metadata": {},
     "output_type": "execute_result"
    }
   ],
   "source": [
    "particle_A = ConcreteParticle(m0=3, bosic_momentum=np.array([0, 0, 4]), c=1.0)\n",
    "particle_B = ConcreteParticle(m0=6, bosic_momentum=np.array([0, 0, 0]), c=1.0)\n",
    "escape_direction = np.array([0.70710678, 0, -0.70710678])\n",
    "experiment = ElasticScatteringExperiment(particle_A, particle_B, escape_direction)\n",
    "comparison = ScatteringComparison(experiment)\n",
    "trad_df, m1_df = comparison.tables()\n",
    "trad_df, m1_df"
   ]
  },
  {
   "cell_type": "code",
   "execution_count": 4,
   "id": "5b8f808a",
   "metadata": {
    "execution": {
     "iopub.execute_input": "2025-08-07T21:00:27.581933Z",
     "iopub.status.busy": "2025-08-07T21:00:27.581720Z",
     "iopub.status.idle": "2025-08-07T21:00:27.588309Z",
     "shell.execute_reply": "2025-08-07T21:00:27.587630Z"
    }
   },
   "outputs": [
    {
     "data": {
      "text/plain": [
       "True"
      ]
     },
     "execution_count": 4,
     "metadata": {},
     "output_type": "execute_result"
    }
   ],
   "source": [
    "comparison.verify()"
   ]
  }
 ],
 "metadata": {
  "language_info": {
   "codemirror_mode": {
    "name": "ipython",
    "version": 3
   },
   "file_extension": ".py",
   "mimetype": "text/x-python",
   "name": "python",
   "nbconvert_exporter": "python",
   "pygments_lexer": "ipython3",
   "version": "3.11.12"
  }
 },
 "nbformat": 4,
 "nbformat_minor": 5
}
